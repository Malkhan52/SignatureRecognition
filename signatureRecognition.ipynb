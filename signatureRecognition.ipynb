{
 "cells": [
  {
   "cell_type": "code",
   "execution_count": 7,
   "metadata": {},
   "outputs": [],
   "source": [
    "# Preprocessing for genuine data\n",
    "import imutils\n",
    "import cv2\n",
    "import numpy as np\n",
    "dim = 256\n",
    "path = 'sample_Signature/genuine/'\n",
    "path1 = 'sample_Signature/preprocessed/genuine/'\n",
    "for m in range(3):\n",
    "    for n in range(1,10):\n",
    "        for l in range(1,6):\n",
    "            name = 'NFI-0'+str(m)+str(n)+'0'+str(l)+'0'+str(m)+str(n)+'.png'\n",
    "            img = cv2.imread(path+name)\n",
    "            img = cv2.cvtColor(img,cv2.COLOR_BGR2GRAY)\n",
    "            h = img.shape[0]\n",
    "            w = img.shape[1]\n",
    "\n",
    "            final = np.zeros(shape=(dim,dim),dtype=int)\n",
    "\n",
    "            if h < w:\n",
    "                resized = imutils.resize(img,width=dim)\n",
    "                h = resized.shape[0]\n",
    "                diff = dim - h\n",
    "                h_diff = int(diff/2)\n",
    "                for i in range(dim):\n",
    "                    for j in range(h_diff):\n",
    "                        final[j][i] = 255\n",
    "                    for j in range(h):\n",
    "                        final[j+h_diff][i] = resized[j][i]\n",
    "                    for j in range(h+h_diff,dim):\n",
    "                        final[j][i] = 255\n",
    "            else:\n",
    "                resized = imutils.resize(img,height=dim)\n",
    "                w = resized.shape[1]\n",
    "                diff = dim - w\n",
    "                h_diff = int(diff/2)\n",
    "                for i in range(dim):\n",
    "                    for j in range(h_diff):\n",
    "                        final[i][j] = 255\n",
    "                    for j in range(w):\n",
    "                        final[i][h_diff+j] = resized[i][j]\n",
    "                    for j in range(w+h_diff,dim):\n",
    "                        final[i][j] = 255\n",
    "            cv2.imwrite(path1+name,final)\n"
   ]
  },
  {
   "cell_type": "code",
   "execution_count": 8,
   "metadata": {},
   "outputs": [
    {
     "name": "stdout",
     "output_type": "stream",
     "text": [
      "(484, 1464, 3)\n"
     ]
    }
   ],
   "source": [
    "# Preprocessing for forged data\n",
    "import imutils\n",
    "import cv2\n",
    "import numpy as np\n",
    "dim = 256\n",
    "path = 'sample_Signature/genuine/'\n",
    "path1 = 'sample_Signature/preprocessed/genuine/'\n",
    "for m in range(3):\n",
    "    for n in range(1,10):\n",
    "        for l in range(1,6):\n",
    "            name = 'NFI-0'+str(m)+str(n)+'0'+str(l)+'0'+str(m)+str(n)+'.png'\n",
    "            img = cv2.imread(path+name)\n",
    "            img = cv2.cvtColor(img,cv2.COLOR_BGR2GRAY)\n",
    "            h = img.shape[0]\n",
    "            w = img.shape[1]\n",
    "\n",
    "            final = np.zeros(shape=(dim,dim),dtype=int)\n",
    "\n",
    "            if h < w:\n",
    "                resized = imutils.resize(img,width=dim)\n",
    "                h = resized.shape[0]\n",
    "                diff = dim - h\n",
    "                h_diff = int(diff/2)\n",
    "                for i in range(dim):\n",
    "                    for j in range(h_diff):\n",
    "                        final[j][i] = 255\n",
    "                    for j in range(h):\n",
    "                        final[j+h_diff][i] = resized[j][i]\n",
    "                    for j in range(h+h_diff,dim):\n",
    "                        final[j][i] = 255\n",
    "            else:\n",
    "                resized = imutils.resize(img,height=dim)\n",
    "                w = resized.shape[1]\n",
    "                diff = dim - w\n",
    "                h_diff = int(diff/2)\n",
    "                for i in range(dim):\n",
    "                    for j in range(h_diff):\n",
    "                        final[i][j] = 255\n",
    "                    for j in range(w):\n",
    "                        final[i][h_diff+j] = resized[i][j]\n",
    "                    for j in range(w+h_diff,dim):\n",
    "                        final[i][j] = 255\n",
    "            cv2.imwrite(path1+name,final)\n"
   ]
  },
  {
   "cell_type": "code",
   "execution_count": null,
   "metadata": {},
   "outputs": [],
   "source": []
  }
 ],
 "metadata": {
  "kernelspec": {
   "display_name": "Python 3",
   "language": "python",
   "name": "python3"
  },
  "language_info": {
   "codemirror_mode": {
    "name": "ipython",
    "version": 3
   },
   "file_extension": ".py",
   "mimetype": "text/x-python",
   "name": "python",
   "nbconvert_exporter": "python",
   "pygments_lexer": "ipython3",
   "version": "3.7.0"
  }
 },
 "nbformat": 4,
 "nbformat_minor": 2
}
